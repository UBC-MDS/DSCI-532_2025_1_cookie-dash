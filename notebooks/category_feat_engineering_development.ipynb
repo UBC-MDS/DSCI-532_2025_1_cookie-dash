{
 "cells": [
  {
   "cell_type": "code",
   "execution_count": 10,
   "metadata": {},
   "outputs": [],
   "source": [
    "import pandas as pd\n",
    "import requests\n",
    "import io"
   ]
  },
  {
   "cell_type": "code",
   "execution_count": 11,
   "metadata": {},
   "outputs": [],
   "source": [
    "def read_data() -> pd.DataFrame:\n",
    "    \"\"\"\n",
    "    Reads data from a predefined URL into a Pandas DataFrame.\n",
    "\n",
    "    Returns:\n",
    "    --------\n",
    "    pd.DataFrame\n",
    "        A DataFrame containing the data from the specified URL.\n",
    "\n",
    "    Raises:\n",
    "    -------\n",
    "    ValueError:\n",
    "        If the data cannot be retrieved or parsed.\n",
    "\n",
    "    Example:\n",
    "    --------\n",
    "    >>> df = read_data()\n",
    "    >>> print(df.head())\n",
    "    \"\"\"\n",
    "    url = \"https://raw.githubusercontent.com/the-pudding/data/master/cookies/choc_chip_cookie_ingredients.csv\"\n",
    "\n",
    "    try:\n",
    "        response = requests.get(url)\n",
    "        response.raise_for_status()\n",
    "        df = pd.read_csv(io.StringIO(response.text), index_col=0)        \n",
    "        return df\n",
    "    \n",
    "    except requests.exceptions.RequestException as e:\n",
    "        print(f\"Error fetching data: {e}\")"
   ]
  },
  {
   "cell_type": "code",
   "execution_count": 12,
   "metadata": {},
   "outputs": [],
   "source": [
    "raw_data = read_data()"
   ]
  },
  {
   "cell_type": "code",
   "execution_count": 16,
   "metadata": {},
   "outputs": [
    {
     "name": "stdout",
     "output_type": "stream",
     "text": [
      "\n",
      "Unique Ingredients: 68\n",
      "Ingredient\n",
      "egg                    212\n",
      "vanilla                196\n",
      "all purpose flour      193\n",
      "baking soda            187\n",
      "sugar                  175\n",
      "                      ... \n",
      "peanut butter chips      1\n",
      "xanthan gum              1\n",
      "white pepper             1\n",
      "wheat                    1\n",
      "zucchini                 1\n",
      "Name: count, Length: 68, dtype: int64\n"
     ]
    }
   ],
   "source": [
    "print(\"\\nUnique Ingredients:\", raw_data[\"Ingredient\"].nunique())\n",
    "print(raw_data[\"Ingredient\"].value_counts())"
   ]
  },
  {
   "cell_type": "code",
   "execution_count": 22,
   "metadata": {},
   "outputs": [
    {
     "data": {
      "text/plain": [
       "array(['all purpose flour', 'almond extract', 'almonds', 'applesauce',\n",
       "       'baking powder', 'baking soda', 'bourbon', 'bread flour',\n",
       "       'brown rice flour', 'butter', 'cake flour', 'cake mix', 'cinnamon',\n",
       "       'coconut', 'coconut extract', 'cookie mix', 'coriander',\n",
       "       'corn syrup', 'cornstarch', 'cream', 'crispy rice', 'egg',\n",
       "       'espresso', 'flour', 'graham cracker', 'honey', 'instant coffee',\n",
       "       'lemon juice', 'liquer', 'macadmia', 'maple', 'margarine',\n",
       "       'marshmallows', 'milk', 'chocolate raisin', 'molasses', 'nestle',\n",
       "       'nutmeg', 'nuts', 'oat', 'peanut butter', 'peanut butter chips',\n",
       "       'pecan', 'pudding mix', 'raisins', 'salt', 'shortening',\n",
       "       'sour cream', 'sugar', 'tartar', 'toffee', 'vanilla',\n",
       "       'vegetable oil', 'vinegar', 'walnut', 'water', 'wheat',\n",
       "       'wheat flour', 'white pepper', 'xanthan gum', 'zucchini',\n",
       "       'light brown sugar', 'dark brown sugar',\n",
       "       'bittersweet chocolate chip', 'semisweet chocolate chip',\n",
       "       'dark chocolate chip', 'milk chocolate chip',\n",
       "       'white chocolate chip'], dtype=object)"
      ]
     },
     "execution_count": 22,
     "metadata": {},
     "output_type": "execute_result"
    }
   ],
   "source": [
    "unique_ingredients = raw_data[\"Ingredient\"].unique()\n",
    "unique_ingredients"
   ]
  },
  {
   "cell_type": "code",
   "execution_count": 21,
   "metadata": {},
   "outputs": [
    {
     "data": {
      "text/plain": [
       "['all purpose flour',\n",
       " 'bread flour',\n",
       " 'brown rice flour',\n",
       " 'cake flour',\n",
       " 'flour',\n",
       " 'wheat flour']"
      ]
     },
     "execution_count": 21,
     "metadata": {},
     "output_type": "execute_result"
    }
   ],
   "source": [
    "flour_types = []\n",
    "for i in unique_ingredients:\n",
    "    if \"flour\" in i:\n",
    "        flour_types.append(i)\n",
    "\n",
    "flour_types"
   ]
  },
  {
   "cell_type": "code",
   "execution_count": 23,
   "metadata": {},
   "outputs": [
    {
     "data": {
      "text/plain": [
       "['chocolate raisin',\n",
       " 'bittersweet chocolate chip',\n",
       " 'semisweet chocolate chip',\n",
       " 'dark chocolate chip',\n",
       " 'milk chocolate chip',\n",
       " 'white chocolate chip']"
      ]
     },
     "execution_count": 23,
     "metadata": {},
     "output_type": "execute_result"
    }
   ],
   "source": [
    "chocolate_types = []\n",
    "for i in unique_ingredients:\n",
    "    if \"chocolate\" in i:\n",
    "        chocolate_types.append(i)\n",
    "chocolate_types"
   ]
  },
  {
   "cell_type": "code",
   "execution_count": null,
   "metadata": {},
   "outputs": [
    {
     "data": {
      "text/plain": [
       "['corn syrup',\n",
       " 'honey',\n",
       " 'molasses',\n",
       " 'sugar',\n",
       " 'light brown sugar',\n",
       " 'dark brown sugar']"
      ]
     },
     "execution_count": 47,
     "metadata": {},
     "output_type": "execute_result"
    }
   ],
   "source": [
    "sweetener_types = []\n",
    "other_sweeteners = [\"corn syrup\", \"honey\", \"molasses\", \"applesauce\"]\n",
    "for i in unique_ingredients:\n",
    "    if \"sugar\" in i:\n",
    "        sweetener_types.append(i)\n",
    "    elif any(sweetener in i for sweetener in other_sweeteners):\n",
    "        sweetener_types.append(i)\n",
    "sweetener_types\n",
    "# any(substring in string for substring in substring_list)\n"
   ]
  },
  {
   "cell_type": "code",
   "execution_count": null,
   "metadata": {},
   "outputs": [],
   "source": [
    "fats = [\"corn syrup\", \"honey\", \"molasses\", \"applesauce\"]\n",
    "for i in unique_ingredients:\n",
    "    if any(fat in i for fat in fats):\n",
    "        fats.append(i)\n",
    "fats"
   ]
  },
  {
   "cell_type": "code",
   "execution_count": 50,
   "metadata": {},
   "outputs": [],
   "source": [
    "sub = chocolate_types + flour_types + sweetener_types + [\"egg\"]"
   ]
  },
  {
   "cell_type": "code",
   "execution_count": 51,
   "metadata": {},
   "outputs": [
    {
     "data": {
      "text/plain": [
       "['almond extract',\n",
       " 'almonds',\n",
       " 'applesauce',\n",
       " 'baking powder',\n",
       " 'baking soda',\n",
       " 'bourbon',\n",
       " 'butter',\n",
       " 'cake mix',\n",
       " 'cinnamon',\n",
       " 'coconut',\n",
       " 'coconut extract',\n",
       " 'cookie mix',\n",
       " 'coriander',\n",
       " 'cornstarch',\n",
       " 'cream',\n",
       " 'crispy rice',\n",
       " 'espresso',\n",
       " 'graham cracker',\n",
       " 'instant coffee',\n",
       " 'lemon juice',\n",
       " 'liquer',\n",
       " 'macadmia',\n",
       " 'maple',\n",
       " 'margarine',\n",
       " 'marshmallows',\n",
       " 'milk',\n",
       " 'nestle',\n",
       " 'nutmeg',\n",
       " 'nuts',\n",
       " 'oat',\n",
       " 'peanut butter',\n",
       " 'peanut butter chips',\n",
       " 'pecan',\n",
       " 'pudding mix',\n",
       " 'raisins',\n",
       " 'salt',\n",
       " 'shortening',\n",
       " 'sour cream',\n",
       " 'tartar',\n",
       " 'toffee',\n",
       " 'vanilla',\n",
       " 'vegetable oil',\n",
       " 'vinegar',\n",
       " 'walnut',\n",
       " 'water',\n",
       " 'wheat',\n",
       " 'white pepper',\n",
       " 'xanthan gum',\n",
       " 'zucchini']"
      ]
     },
     "execution_count": 51,
     "metadata": {},
     "output_type": "execute_result"
    }
   ],
   "source": [
    "# left_over = unique_ingredients.remove(chocolate_types)\n",
    "left_over = [item for item in unique_ingredients if item not in sub]\n",
    "left_over"
   ]
  },
  {
   "cell_type": "code",
   "execution_count": 15,
   "metadata": {},
   "outputs": [],
   "source": [
    "data_with_subcategories = raw_data.copy()"
   ]
  },
  {
   "cell_type": "code",
   "execution_count": null,
   "metadata": {},
   "outputs": [],
   "source": [
    "data_with_subcategories['']"
   ]
  }
 ],
 "metadata": {
  "kernelspec": {
   "display_name": "base",
   "language": "python",
   "name": "python3"
  },
  "language_info": {
   "codemirror_mode": {
    "name": "ipython",
    "version": 3
   },
   "file_extension": ".py",
   "mimetype": "text/x-python",
   "name": "python",
   "nbconvert_exporter": "python",
   "pygments_lexer": "ipython3",
   "version": "3.11.11"
  }
 },
 "nbformat": 4,
 "nbformat_minor": 2
}
