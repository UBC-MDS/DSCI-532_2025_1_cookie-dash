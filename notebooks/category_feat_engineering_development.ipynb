{
 "cells": [
  {
   "cell_type": "code",
   "execution_count": 75,
   "metadata": {},
   "outputs": [],
   "source": [
    "import pandas as pd\n",
    "import requests\n",
    "import io"
   ]
  },
  {
   "cell_type": "code",
   "execution_count": 76,
   "metadata": {},
   "outputs": [],
   "source": [
    "def read_data() -> pd.DataFrame:\n",
    "    \"\"\"\n",
    "    Reads data from a predefined URL into a Pandas DataFrame.\n",
    "\n",
    "    Returns:\n",
    "    --------\n",
    "    pd.DataFrame\n",
    "        A DataFrame containing the data from the specified URL.\n",
    "\n",
    "    Raises:\n",
    "    -------\n",
    "    ValueError:\n",
    "        If the data cannot be retrieved or parsed.\n",
    "\n",
    "    Example:\n",
    "    --------\n",
    "    >>> df = read_data()\n",
    "    >>> print(df.head())\n",
    "    \"\"\"\n",
    "    url = \"https://raw.githubusercontent.com/the-pudding/data/master/cookies/choc_chip_cookie_ingredients.csv\"\n",
    "\n",
    "    try:\n",
    "        response = requests.get(url)\n",
    "        response.raise_for_status()\n",
    "        df = pd.read_csv(io.StringIO(response.text), index_col=0)        \n",
    "        return df\n",
    "    \n",
    "    except requests.exceptions.RequestException as e:\n",
    "        print(f\"Error fetching data: {e}\")"
   ]
  },
  {
   "cell_type": "code",
   "execution_count": 77,
   "metadata": {},
   "outputs": [],
   "source": [
    "raw_data = read_data()"
   ]
  },
  {
   "cell_type": "code",
   "execution_count": 78,
   "metadata": {},
   "outputs": [
    {
     "name": "stdout",
     "output_type": "stream",
     "text": [
      "\n",
      "Unique Ingredients: 68\n",
      "Ingredient\n",
      "egg                    212\n",
      "vanilla                196\n",
      "all purpose flour      193\n",
      "baking soda            187\n",
      "sugar                  175\n",
      "                      ... \n",
      "peanut butter chips      1\n",
      "xanthan gum              1\n",
      "white pepper             1\n",
      "wheat                    1\n",
      "zucchini                 1\n",
      "Name: count, Length: 68, dtype: int64\n"
     ]
    }
   ],
   "source": [
    "print(\"\\nUnique Ingredients:\", raw_data[\"Ingredient\"].nunique())\n",
    "print(raw_data[\"Ingredient\"].value_counts())"
   ]
  },
  {
   "cell_type": "code",
   "execution_count": 79,
   "metadata": {},
   "outputs": [],
   "source": [
    "unique_ingredients = raw_data[\"Ingredient\"].unique()"
   ]
  },
  {
   "cell_type": "code",
   "execution_count": 80,
   "metadata": {},
   "outputs": [
    {
     "data": {
      "text/plain": [
       "['all purpose flour',\n",
       " 'bread flour',\n",
       " 'brown rice flour',\n",
       " 'cake flour',\n",
       " 'flour',\n",
       " 'wheat flour']"
      ]
     },
     "execution_count": 80,
     "metadata": {},
     "output_type": "execute_result"
    }
   ],
   "source": [
    "flour_types = []\n",
    "for i in unique_ingredients:\n",
    "    if \"flour\" in i:\n",
    "        flour_types.append(i)\n",
    "flour_types"
   ]
  },
  {
   "cell_type": "code",
   "execution_count": 81,
   "metadata": {},
   "outputs": [
    {
     "data": {
      "text/plain": [
       "['chocolate raisin',\n",
       " 'bittersweet chocolate chip',\n",
       " 'semisweet chocolate chip',\n",
       " 'dark chocolate chip',\n",
       " 'milk chocolate chip',\n",
       " 'white chocolate chip']"
      ]
     },
     "execution_count": 81,
     "metadata": {},
     "output_type": "execute_result"
    }
   ],
   "source": [
    "chocolate_types = []\n",
    "for i in unique_ingredients:\n",
    "    if \"chocolate\" in i:\n",
    "        chocolate_types.append(i)\n",
    "chocolate_types"
   ]
  },
  {
   "cell_type": "code",
   "execution_count": 82,
   "metadata": {},
   "outputs": [
    {
     "data": {
      "text/plain": [
       "['sugar',\n",
       " 'light brown sugar',\n",
       " 'dark brown sugar',\n",
       " 'corn syrup',\n",
       " 'honey',\n",
       " 'molasses',\n",
       " 'applesauce']"
      ]
     },
     "execution_count": 82,
     "metadata": {},
     "output_type": "execute_result"
    }
   ],
   "source": [
    "sweetener_types = []\n",
    "other_sweeteners = [\"corn syrup\", \"honey\", \"molasses\", \"applesauce\"]\n",
    "for i in unique_ingredients:\n",
    "    if \"sugar\" in i:\n",
    "        sweetener_types.append(i)\n",
    "\n",
    "sweetener_types += other_sweeteners\n",
    "sweetener_types\n"
   ]
  },
  {
   "cell_type": "code",
   "execution_count": 83,
   "metadata": {},
   "outputs": [
    {
     "data": {
      "text/plain": [
       "['butter', 'margarine', 'shortening', 'vegetable oil']"
      ]
     },
     "execution_count": 83,
     "metadata": {},
     "output_type": "execute_result"
    }
   ],
   "source": [
    "fat_types = [\"butter\", \"margarine\", \"shortening\", \"vegetable oil\"]\n",
    "fat_types"
   ]
  },
  {
   "cell_type": "code",
   "execution_count": null,
   "metadata": {},
   "outputs": [],
   "source": [
    "non_other_ingredients = chocolate_types + flour_types + sweetener_types + [\"egg\"] + fat_types\n",
    "other_ingredients = [item for item in unique_ingredients if item not in non_other_ingredients]"
   ]
  },
  {
   "cell_type": "code",
   "execution_count": null,
   "metadata": {},
   "outputs": [],
   "source": [
    "def sub_categorize_ingredient(ingredient, flour_types, sweetener_types, fat_types, chocolate_types):\n",
    "    \"\"\"\n",
    "    Categorizes an ingredient into a specific subcategory based on predefined ingredient types.\n",
    "\n",
    "    Parameters\n",
    "    ----------\n",
    "    ingredient : str\n",
    "        The ingredient to categorize.\n",
    "    flour_types : list of str\n",
    "        A list of ingredients considered as flour.\n",
    "    sweetener_types : list of str\n",
    "        A list of ingredients considered as sweeteners.\n",
    "    fat_types : list of str\n",
    "        A list of ingredients considered as fats.\n",
    "    chocolate_types : list of str\n",
    "        A list of ingredients considered as chocolate.\n",
    "\n",
    "    Returns\n",
    "    -------\n",
    "    str\n",
    "        The category of the ingredient. Possible values:\n",
    "        - \"flour\" if the ingredient is in `flour_types`\n",
    "        - \"sweetener\" if the ingredient is in `sweetener_types`\n",
    "        - \"fat\" if the ingredient is in `fat_types`\n",
    "        - \"egg\" if the ingredient is \"egg\"\n",
    "        - \"chocolate\" if the ingredient is in `chocolate_types`\n",
    "        - \"other\" if the ingredient does not match any category\n",
    "\n",
    "    Examples\n",
    "    --------\n",
    "    >>> flour_list = [\"all purpose flour\", \"whole wheat flour\"]\n",
    "    >>> sweetener_list = [\"sugar\", \"honey\"]\n",
    "    >>> fat_list = [\"butter\", \"oil\"]\n",
    "    >>> chocolate_list = [\"cocoa powder\", \"chocolate chips\"]\n",
    "    \n",
    "    >>> sub_categorize_ingredient(\"all purpose flour\", flour_list, sweetener_list, fat_list, chocolate_list)\n",
    "    'flour'\n",
    "    \n",
    "    >>> sub_categorize_ingredient(\"honey\", flour_list, sweetener_list, fat_list, chocolate_list)\n",
    "    'sweetener'\n",
    "    \n",
    "    >>> sub_categorize_ingredient(\"egg\", flour_list, sweetener_list, fat_list, chocolate_list)\n",
    "    'egg'\n",
    "    \n",
    "    >>> sub_categorize_ingredient(\"cocoa powder\", flour_list, sweetener_list, fat_list, chocolate_list)\n",
    "    'chocolate'\n",
    "    \n",
    "    >>> sub_categorize_ingredient(\"vanilla extract\", flour_list, sweetener_list, fat_list, chocolate_list)\n",
    "    'other'\n",
    "    \"\"\"\n",
    "    if ingredient in flour_types:\n",
    "        return \"flour\"\n",
    "    elif ingredient in sweetener_types:\n",
    "        return \"sweetener\"\n",
    "    elif ingredient in fat_types:\n",
    "        return \"fat\"\n",
    "    elif ingredient == \"egg\":\n",
    "        return \"egg\"\n",
    "    elif ingredient == chocolate_types:\n",
    "        return \"chocolate\"\n",
    "    else:\n",
    "        return \"other\""
   ]
  },
  {
   "cell_type": "code",
   "execution_count": 15,
   "metadata": {},
   "outputs": [],
   "source": [
    "data_with_subcategories = raw_data.copy()"
   ]
  },
  {
   "cell_type": "code",
   "execution_count": null,
   "metadata": {},
   "outputs": [],
   "source": [
    "data_with_subcategories['']"
   ]
  }
 ],
 "metadata": {
  "kernelspec": {
   "display_name": "base",
   "language": "python",
   "name": "python3"
  },
  "language_info": {
   "codemirror_mode": {
    "name": "ipython",
    "version": 3
   },
   "file_extension": ".py",
   "mimetype": "text/x-python",
   "name": "python",
   "nbconvert_exporter": "python",
   "pygments_lexer": "ipython3",
   "version": "3.11.11"
  }
 },
 "nbformat": 4,
 "nbformat_minor": 2
}
